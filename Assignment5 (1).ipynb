{
 "cells": [
  {
   "cell_type": "code",
   "execution_count": null,
   "id": "561a5830-fecc-4a31-9523-d8297d749b47",
   "metadata": {},
   "outputs": [],
   "source": [
    "# Q1. who developed python programming language\n",
    "\n",
    "\"\"\" Python was created by Guido van Rossum in the late 1980s\n",
    "and was first released in 1991.  \"\"\""
   ]
  },
  {
   "cell_type": "code",
   "execution_count": null,
   "id": "4273319e-d7aa-4027-9821-6739dd3f0926",
   "metadata": {},
   "outputs": [],
   "source": [
    "# Q2. which type of programming does python support.\n",
    "\n",
    "\"\"\" Python is a high-level, interpreted programming language that supports \n",
    "multiple programming paradigms, including:\n",
    "\n",
    "Procedural programming: Python supports procedural programming, which involves dividing\n",
    "the program into smaller reusable parts, called functions or procedures, that perform\n",
    "specific tasks.\n",
    "\n",
    "Object-oriented programming (OOP): Python supports OOP, which involves organizing code\n",
    "into objects that have attributes and methods that can be used to interact with data.\n",
    "\n",
    "Functional programming: Python supports functional programming, which involves writing\n",
    "programs as a series of functions that take input and return output, without modifying \n",
    "any state or data.\n",
    "\n",
    "Aspect-oriented programming: Python also supports aspect-oriented programming (AOP), \n",
    "which involves separating cross-cutting concerns into aspects and then applying those\n",
    "aspects to different parts of the program.\n",
    "\n",
    "Python's flexibility and support for multiple programming paradigms make it a versatile \n",
    "language that can be used for a wide range of applications, from web development and \n",
    "data science to game development and scientific computing. \"\"\""
   ]
  },
  {
   "cell_type": "code",
   "execution_count": null,
   "id": "1bc7d894-5c28-4cb5-ae72-e9c7d863e2d5",
   "metadata": {},
   "outputs": [],
   "source": [
    "# Q3. Is python case sensitive when dealing with identifiers.\n",
    "\n",
    "\"\"\" Yes, Python is a case-sensitive language when it comes to identifiers, which means\n",
    "that uppercase and lowercase letters are considered different. For example, the variable \n",
    "name \"count\" is not the same as \"Count\" or \"COUNT\".\n",
    "\n",
    "This means that if you define a variable or function with a particular name in lowercase\n",
    "letters, you cannot reference it later using a different capitalization. \n",
    "If you try to do so, Python will treat it as a different identifier and may generate \n",
    "an error or unexpected behavior.\n",
    "\n",
    "Therefore, it's essential to be consistent with the capitalization of your identifiers\n",
    "in Python to avoid any confusion or errors. \"\"\""
   ]
  },
  {
   "cell_type": "code",
   "execution_count": null,
   "id": "250b620b-1420-4061-b28c-bcb0719833ee",
   "metadata": {},
   "outputs": [],
   "source": [
    "# Q4. what is the correct extension of the  python file.\n",
    "\n",
    "\"\"\" In Python, the correct file extension for a source code file is \".py\". \n",
    "For example, if you are working on a Python script called \"my_script\", the file should\n",
    "be saved as \"my_script.py\".\n",
    "\n",
    "The \".py\" extension is used to indicate that the file contains Python source code \n",
    "and to associate the file with the Python interpreter. This is important because \n",
    "when you run a Python script, the interpreter needs to know that the file contains \n",
    "Python code and how to execute it. \"\"\""
   ]
  },
  {
   "cell_type": "code",
   "execution_count": null,
   "id": "8fdeeb2c-1c03-4d49-a5b5-64ea833e5a29",
   "metadata": {},
   "outputs": [],
   "source": [
    "# Q5. Is python code is compiled or interpreted.\n",
    "\n",
    "\"\"\" Python code is interpreted, not compiled. When you run a Python program, \n",
    "the Python interpreter reads the source code line by line and executes it directly.  \"\"\""
   ]
  },
  {
   "cell_type": "code",
   "execution_count": null,
   "id": "e8b28770-b2e0-4157-8350-0cf3515cac98",
   "metadata": {},
   "outputs": [],
   "source": [
    "# Q6. Name a few blocks of code used to define in python language.\n",
    "\n",
    "\"\"\" In Python, there are several blocks of code that are used to define different parts \n",
    "of a program. These include:\n",
    "\n",
    "Functions: Functions are blocks of code that perform a specific task and can be called\n",
    "from other parts of the program. In Python, functions are defined using the def keyword,\n",
    "followed by the function name, input arguments (if any), and the code block inside the \n",
    "function.\n",
    "\n",
    "Classes: Classes are blueprints for creating objects that have specific attributes and\n",
    "methods. In Python, classes are defined using the class keyword, followed by the class \n",
    "name and the code block that defines the class properties and methods.\n",
    "\n",
    "Conditional statements: Conditional statements allow the program to make decisions based\n",
    "on specific conditions. In Python, conditional statements are defined using the if, elif,\n",
    "and else keywords, followed by the condition to be evaluated and the code block to be\n",
    "executed if the condition is true.\n",
    "\n",
    "Loops: Loops allow the program to repeat a set of instructions multiple times.\n",
    "In Python, there are two types of loops: for loops, which iterate over a sequence of\n",
    "values, and while loops, which continue iterating as long as a specific condition is true.\n",
    "\n",
    "Exception handling: Exception handling allows the program to handle errors and \n",
    "unexpected situations gracefully. In Python, exception handling is done using the try,\n",
    "except, finally, and raise keywords, followed by the code block to be executed in case \n",
    "of an error or exception.\n",
    "\n",
    "These are just a few examples of the blocks of code used in Python. Understanding these \n",
    "concepts is essential for writing efficient and effective Python programs. \"\"\""
   ]
  },
  {
   "cell_type": "code",
   "execution_count": null,
   "id": "ac3fdf31-cbb9-40ed-8b1e-adda9a8f5cc7",
   "metadata": {},
   "outputs": [],
   "source": [
    "# Q7. state a character used to give single  line comments in python.\n",
    "\n",
    "\"\"\" In Python, the # character is used to indicate a single-line comment.\n",
    "Any text that follows the # character on a line is considered a comment and is ignored\n",
    "by the Python interpreter when the program is run. \"\"\""
   ]
  },
  {
   "cell_type": "code",
   "execution_count": 2,
   "id": "f71e9c48-55d7-459e-a949-3b680cb3193b",
   "metadata": {},
   "outputs": [
    {
     "name": "stdout",
     "output_type": "stream",
     "text": [
      "3.10.8 | packaged by conda-forge | (main, Nov 22 2022, 08:26:04) [GCC 10.4.0]\n"
     ]
    }
   ],
   "source": [
    "# Q8. mention functions which can help us to find the version of python that \n",
    "# we are currently working on. \n",
    "\n",
    "\"\"\" There are several ways to check the version of Python that you are currently working\n",
    "on. Here are a few functions that can help:\n",
    "\n",
    "1. Using the sys module: The sys module provides information about the Python interpreter\n",
    "and the environment in which it is running. To check the version of Python, you can use \n",
    "the sys.version attribute, which returns a string containing the version number: \"\"\"\n",
    "\n",
    "# example:\n",
    "import sys\n",
    "\n",
    "print(sys.version)"
   ]
  },
  {
   "cell_type": "code",
   "execution_count": 3,
   "id": "d6a2a203-1af1-4320-bc77-7bd9b9f1f7e9",
   "metadata": {},
   "outputs": [
    {
     "name": "stdout",
     "output_type": "stream",
     "text": [
      "3.10.8\n"
     ]
    }
   ],
   "source": [
    "\"\"\" 2. Using the platform module: The platform module provides information about the \n",
    "operating system and hardware platform. To check the version of Python, you can use the \n",
    "platform.python_version() function, which returns a string containing the version number: \"\"\"\n",
    "\n",
    "# example:\n",
    "import platform\n",
    "\n",
    "print(platform.python_version())"
   ]
  },
  {
   "cell_type": "code",
   "execution_count": 6,
   "id": "3f90952b-d814-4d43-bf5b-6398d9a17ec2",
   "metadata": {},
   "outputs": [
    {
     "data": {
      "text/plain": [
       "' 3. Using the command line: You can also check the version of Python from the \\ncommand line by running the python --version command. This will output the version \\nnumber: '"
      ]
     },
     "execution_count": 6,
     "metadata": {},
     "output_type": "execute_result"
    }
   ],
   "source": [
    "\"\"\" 3. Using the command line: You can also check the version of Python from the \n",
    "command line by running the python --version command. This will output the version \n",
    "number: \"\"\"\n",
    "\n",
    "# example:\n",
    "# $ python --version"
   ]
  },
  {
   "cell_type": "code",
   "execution_count": null,
   "id": "df49e709-3136-4ae3-b9c1-bb42a17f585f",
   "metadata": {},
   "outputs": [],
   "source": [
    "# Q9. python supports the creation of anonymous functions that runtime, using a \n",
    "# construct called ?\n",
    "\n",
    "# answer: lambda"
   ]
  },
  {
   "cell_type": "code",
   "execution_count": null,
   "id": "d8209886-1186-4c58-a7ac-e6ab0acf4063",
   "metadata": {},
   "outputs": [],
   "source": [
    "# Q10. what does pip stands for ?\n",
    "\n",
    "\"\"\" pip stands for \"Pip Installs Packages\" or \"Pip Installs Python\".\n",
    "\n",
    "pip is the default package manager for Python, used to install and manage software\n",
    "packages written in Python. \"\"\""
   ]
  },
  {
   "cell_type": "code",
   "execution_count": null,
   "id": "9098672f-a97c-4f1e-9bc7-cf10768c7976",
   "metadata": {},
   "outputs": [],
   "source": [
    "# Q11. mention a few build-in functions in python ? \n",
    "\n",
    "\"\"\" Python has many built-in functions that can be used to perform a variety of common\n",
    "tasks. Here are some examples of built-in functions in Python:\n",
    "\n",
    "print(): Prints the specified message to the console.\n",
    "\n",
    "len(): Returns the length of a string, list, tuple, or dictionary.\n",
    "\n",
    "range(): Generates a sequence of numbers.\n",
    "\n",
    "input(): Reads a line of text from the console.\n",
    "\n",
    "str(): Converts an object into a string.\n",
    "\n",
    "int(): Converts a string or a number into an integer.\n",
    "\n",
    "float(): Converts a string or a number into a floating-point number.\n",
    "\n",
    "abs(): Returns the absolute value of a number.\n",
    "\n",
    "min(): Returns the smallest item in an iterable or a set of arguments.\n",
    "\n",
    "max(): Returns the largest item in an iterable or a set of arguments.\n",
    "\n",
    "sum(): Returns the sum of all the items in an iterable.\n",
    "\n",
    "sorted(): Returns a new sorted list from the items in an iterable.\n",
    "\n",
    "type(): Returns the type of an object.\n",
    "\n",
    "range(): Returns a sequence of numbers.\n",
    "\n",
    "open(): Opens a file and returns a file object. \"\"\""
   ]
  },
  {
   "cell_type": "code",
   "execution_count": null,
   "id": "adecb587-9825-4d80-9ce3-d0d478a4d344",
   "metadata": {},
   "outputs": [],
   "source": [
    "# Q12. what is the maximum possible length of an identifier in python ?\n",
    "\n",
    "\"\"\" In Python, the maximum length of an identifier is not explicitly defined.\n",
    "However, practical considerations such as readability and usability suggest that it's \n",
    "best to keep identifiers reasonably short. \n",
    "\n",
    "In practice, most identifiers in Python are less than 20 characters long,\n",
    "but there is no technical limit to their length.\"\"\""
   ]
  },
  {
   "cell_type": "code",
   "execution_count": null,
   "id": "2a151046-6be5-4654-98a6-2b39b27a307f",
   "metadata": {},
   "outputs": [],
   "source": [
    "# Q13. what are the benefits of using python ?\n",
    "\n",
    "\"\"\" There are many benefits to using Python as a programming language, \n",
    "some of which include:\n",
    "\n",
    "Easy to learn and use: Python has a simple syntax and is easy to learn, making it a great\n",
    "language for beginners. Its simplicity also makes it easier to write and maintain code.\n",
    "\n",
    "Large and active community: Python has a large and active community of developers and \n",
    "users who contribute to its development and support. This community provides a wealth of \n",
    "resources and tools that can be used to enhance and expand the capabilities of the language.\n",
    "\n",
    "Cross-platform compatibility: Python can run on multiple platforms, including Windows, \n",
    "macOS, and Linux, making it a versatile language that can be used for a variety of applications.\n",
    "\n",
    "High-level language: Python is a high-level language that provides a simple and concise \n",
    "syntax, allowing developers to focus on the problem at hand rather than the technical\n",
    "details of the language.\n",
    "\n",
    "Extensive standard library: Python comes with a large and comprehensive standard library\n",
    "that provides a wide range of functionalities, making it easy to develop complex \n",
    "applications without having to write code from scratch.\n",
    "\n",
    "Wide range of third-party libraries: Python has a vast ecosystem of third-party libraries\n",
    "that can be used to extend its capabilities and provide additional functionality for\n",
    "specific use cases.\n",
    "\n",
    "Good for data science and machine learning: Python has become a popular language for \n",
    "data science and machine learning due to its simplicity, versatility, and the\n",
    "availability of powerful libraries like NumPy, Pandas, and TensorFlow.\n",
    "\n",
    "Overall, Python's simplicity, versatility, and large community make it a great language \n",
    "for a wide range of applications, from web development to data science and machine\n",
    "learning. \"\"\""
   ]
  },
  {
   "cell_type": "code",
   "execution_count": null,
   "id": "51700a8d-7b3c-4042-aaff-53fb56fb3737",
   "metadata": {},
   "outputs": [],
   "source": [
    "# Q14. How is memory managed in python ?\n",
    "\n",
    "\"\"\" Memory management in Python is handled automatically by the Python interpreter.\n",
    "The interpreter uses a technique called garbage collection to automatically detect and\n",
    "remove objects from memory when they are no longer needed. \"\"\""
   ]
  },
  {
   "cell_type": "code",
   "execution_count": null,
   "id": "f3b121c5-a5be-42c0-80b6-4e783044fa48",
   "metadata": {},
   "outputs": [],
   "source": [
    "# Q15. How to install python in windows and set path variables ?\n",
    "\n",
    "\"\"\" Here are the steps to install Python in Windows and set the path variables:\n",
    "\n",
    "1.Download the latest version of Python from the official website \n",
    "(https://www.python.org/downloads/). Make sure to download the version that corresponds \n",
    "to your Windows system architecture (32-bit or 64-bit).\n",
    "\n",
    "2.Double-click on the downloaded installer file and follow the prompts to install \n",
    "Python on your computer. During the installation process, make sure to select the option\n",
    "to add Python to your PATH variable.\n",
    "\n",
    "3.Once the installation is complete, open the Start menu and search for \"environment\n",
    "variables\". Click on the \"Edit the system environment variables\" option.\n",
    "\n",
    "4.In the System Properties window, click on the \"Environment Variables\" button.\n",
    "\n",
    "5.Under the \"System Variables\" section, scroll down until you find the \"Path\" variable. \n",
    "Click on the \"Edit\" button.\n",
    "\n",
    "6.Click on the \"New\" button and add the following path to the list: C:\\PythonXX\\Scripts \n",
    "(replace XX with the version number of your Python installation).\n",
    "\n",
    "7.Click \"OK\" to close all windows.\n",
    "\n",
    "Open the command prompt and type \"python\" to check if Python has been installed\n",
    "correctly and the path variables are set up properly.\n",
    "\n",
    "That's it! You should now be able to use Python on your Windows computer. \"\"\""
   ]
  },
  {
   "cell_type": "code",
   "execution_count": null,
   "id": "92e778fb-5492-456b-bb5b-53dc5a8c27cb",
   "metadata": {},
   "outputs": [],
   "source": [
    "# Q16. Is indentation required in python ?\n",
    "\n",
    "\"\"\" Yes, indentation is required in Python. Unlike other programming languages that \n",
    "use brackets or parentheses to delimit blocks of code, Python uses indentation to group \n",
    "statements.\n",
    "\n",
    "Blocks of code are defined by their level of indentation. All the statements in a block\n",
    "must be indented by the same amount of spaces or tabs. The standard indentation level\n",
    "in Python is four spaces. It is important to be consistent with your indentation \n",
    "throughout your code to avoid syntax errors. \"\"\""
   ]
  }
 ],
 "metadata": {
  "kernelspec": {
   "display_name": "Python 3 (ipykernel)",
   "language": "python",
   "name": "python3"
  },
  "language_info": {
   "codemirror_mode": {
    "name": "ipython",
    "version": 3
   },
   "file_extension": ".py",
   "mimetype": "text/x-python",
   "name": "python",
   "nbconvert_exporter": "python",
   "pygments_lexer": "ipython3",
   "version": "3.10.8"
  }
 },
 "nbformat": 4,
 "nbformat_minor": 5
}
